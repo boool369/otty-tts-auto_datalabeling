{
 "cells": [
  {
   "cell_type": "markdown",
   "id": "91c23631-2124-4d87-9030-11b2366f912b",
   "metadata": {},
   "source": [
    "### 1.克隆项目"
   ]
  },
  {
   "cell_type": "code",
   "execution_count": null,
   "id": "a528d3a6-acb9-4401-b211-a0ce9e094cf1",
   "metadata": {
    "tags": []
   },
   "outputs": [],
   "source": [
    "# 切换到工作目录\n",
    "%cd /home/jovyan/workspace\n",
    "!git clone https://github.com/OttyAI/otty-tts-auto_datalabeling.git"
   ]
  },
  {
   "cell_type": "markdown",
   "id": "84de8546-4273-4067-9b65-8471d6c0e28f",
   "metadata": {},
   "source": [
    "### 2.创造虚拟环境，安装依赖模型"
   ]
  },
  {
   "cell_type": "code",
   "execution_count": null,
   "id": "224a8edd-1c76-4489-8eeb-4f7581bededf",
   "metadata": {
    "tags": []
   },
   "outputs": [],
   "source": [
    "%cd otty-tts-auto_datalabeling\n",
    "!sudo apt-get install git-lfs"
   ]
  },
  {
   "cell_type": "code",
   "execution_count": null,
   "id": "7b9a25e2-1423-4ca9-8b7e-02405462b945",
   "metadata": {},
   "outputs": [],
   "source": [
    "!echo \"yes\" |python3 download_dependencies.py"
   ]
  },
  {
   "cell_type": "markdown",
   "id": "59611020-c1e5-4e36-9ca9-220999b59fd0",
   "metadata": {},
   "source": [
    "### 3.音频文件重命名"
   ]
  },
  {
   "cell_type": "code",
   "execution_count": null,
   "id": "a4477ee5-1726-4c69-8a2b-2ec8521d0020",
   "metadata": {
    "tags": []
   },
   "outputs": [],
   "source": [
    "# 在-n后填音频的名字，-p后为日志名称\n",
    "!python3 rename.py -n hk -p 虎克"
   ]
  },
  {
   "cell_type": "markdown",
   "id": "0b88c921-4a8c-438b-b5d3-4911c3d53f8b",
   "metadata": {},
   "source": [
    "### 4.切换到安装好的虚拟环境"
   ]
  },
  {
   "cell_type": "code",
   "execution_count": null,
   "id": "9ee40b62-9ae5-42ea-a56e-413b13a4111b",
   "metadata": {
    "tags": []
   },
   "outputs": [],
   "source": [
    "!conda init bash\n",
    "#出现(base) 开头后点停止，然后再运行一次，然后再点停止，然后右上角选择datalabeling的内核\n",
    "!bash\n",
    "!conda env list\n",
    "!pip install ipykernel\n",
    "!python -m ipykernel install --user --name=autolabeling --display-name \"datalabeling\""
   ]
  },
  {
   "cell_type": "markdown",
   "id": "96c4d970-370e-4a81-a07d-3283fb1213ef",
   "metadata": {},
   "source": [
    "### 5.开始标注"
   ]
  },
  {
   "cell_type": "code",
   "execution_count": null,
   "id": "e30dd858-91b5-4420-bb09-9466ba4fa5c8",
   "metadata": {
    "tags": []
   },
   "outputs": [],
   "source": [
    "!python3 auto_DataLabeling_re.py"
   ]
  },
  {
   "cell_type": "markdown",
   "id": "41c67082-5f8b-4568-b3b2-074334b3afc8",
   "metadata": {},
   "source": [
    "### 6.清理标注\n",
    "`每次标注完成后，都要清理标注`"
   ]
  },
  {
   "cell_type": "code",
   "execution_count": null,
   "id": "e173e6be-eda2-401b-889f-bd9c79a49a00",
   "metadata": {},
   "outputs": [],
   "source": [
    "!python3 clean_list.py"
   ]
  }
 ],
 "metadata": {
  "kernelspec": {
   "display_name": "datalabeling",
   "language": "python",
   "name": "autolabeling"
  },
  "language_info": {
   "codemirror_mode": {
    "name": "ipython",
    "version": 3
   },
   "file_extension": ".py",
   "mimetype": "text/x-python",
   "name": "python",
   "nbconvert_exporter": "python",
   "pygments_lexer": "ipython3",
   "version": "3.9.15"
  }
 },
 "nbformat": 4,
 "nbformat_minor": 5
}
